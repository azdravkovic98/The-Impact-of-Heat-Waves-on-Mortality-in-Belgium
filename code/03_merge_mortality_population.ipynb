{
 "cells": [
  {
   "cell_type": "code",
   "execution_count": null,
   "id": "d7afe91e",
   "metadata": {},
   "outputs": [],
   "source": []
  },
  {
   "cell_type": "code",
   "execution_count": null,
   "id": "5be71f32",
   "metadata": {},
   "outputs": [],
   "source": [
    "import pandas as pd\n",
    "import numpy as np\n",
    "\n",
    "'LOAD HEAT WAVE DATA'\n",
    "heat_wave = pd.read_csv(\"C:/Users/Student/Desktop/MDA/mortality_heat_wave.csv\", sep = \",\")\n",
    "print(heat_wave)\n",
    "\n",
    "'LOAD DEATH DATA WITH TOTAL WEEKLY POPULATION BY ARRONDISSEMENT (AS OBTAINED BY LINEAR INTERPOLATION)'\n",
    "mort_interp = pd.read_csv(\"C:/Users/Student/Desktop/MDA/weekly_mortality_with_linear_interpolated_population_data.csv\",\n",
    "                         sep = \",\")\n",
    "print(mort_interp)\n",
    "mort_interp.info()"
   ]
  },
  {
   "cell_type": "code",
   "execution_count": null,
   "id": "fa242550",
   "metadata": {},
   "outputs": [],
   "source": [
    "'FILTER HEAT_WAVE DATA TO GET ONLY NATURAL DEATHS'\n",
    "heat_wave = heat_wave[heat_wave['COD'] == \"natural\"]\n",
    "\n",
    "'CONVERT YEAR_WEEK TO STRING'\n",
    "heat_wave = heat_wave.astype({\"YEAR_WEEK\": str})\n",
    "\n",
    "'CREATING YEAR AND WEEK VARIABLES'\n",
    "heat_wave['YEAR'] = heat_wave['YEAR_WEEK'].astype(str).str[:4]\n",
    "heat_wave['YEAR'] = heat_wave['YEAR'].astype(int)\n",
    "\n",
    "heat_wave['WEEK'] = heat_wave['YEAR_WEEK'].astype(str).str[6:8]\n",
    "heat_wave['WEEK'] = heat_wave['WEEK'].astype(int)\n",
    "\n",
    "print(heat_wave)\n",
    "heat_wave.info()"
   ]
  },
  {
   "cell_type": "code",
   "execution_count": null,
   "id": "f5b97ac4",
   "metadata": {},
   "outputs": [],
   "source": [
    "'MERGING HEAT_WAVE AND INTERPOLATION DATASETS'\n",
    "\n",
    "merged_data = pd.merge(mort_interp, heat_wave, how = 'left', left_on=['YEAR', 'ARRON', 'WEEK'], right_on = ['YEAR', 'ARRON', 'WEEK'])\n",
    "print(merged_data)\n",
    "merged_data.info()\n",
    "\n",
    "'SAVIND MERGED DATA TO OUT FILE'\n",
    "merged_data.to_csv('out/merged.csv', encoding = 'utf-8-sig') "
   ]
  }
 ],
 "metadata": {
  "kernelspec": {
   "display_name": "Python 3 (ipykernel)",
   "language": "python",
   "name": "python3"
  },
  "language_info": {
   "codemirror_mode": {
    "name": "ipython",
    "version": 3
   },
   "file_extension": ".py",
   "mimetype": "text/x-python",
   "name": "python",
   "nbconvert_exporter": "python",
   "pygments_lexer": "ipython3",
   "version": "3.9.7"
  }
 },
 "nbformat": 4,
 "nbformat_minor": 5
}
